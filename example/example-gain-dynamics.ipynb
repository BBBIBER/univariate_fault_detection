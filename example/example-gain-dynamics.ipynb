{
 "cells": [
  {
   "attachments": {},
   "cell_type": "markdown",
   "metadata": {},
   "source": [
    "아래의 코드는 Gain/Dynamics 상태를 감지합니다.\n",
    "\n",
    "다음과 같은 단계로 이루어져 있습니다:\n",
    "\n",
    "> 1. 필요한 라이브러리와 사용자 정의 모듈을 불러옵니다.\n",
    "\n",
    "> 2. 데이터 파일 경로를 설정합니다.\n",
    "\n",
    "> 3. 결과를 저장하기 위한 함수를 정의합니다.\n",
    "\n",
    "> 4. 훈련 데이터와 테스트 데이터를 불러옵니다.\n",
    "\n",
    "> 5. 훈련 데이터를 사용하여 Configuration을 계산하고 저장합니다.\n",
    "\n",
    "> 6. 시험용 데이터를 사용하여 Dynamics/Gain Monitoring을 실행합니다."
   ]
  },
  {
   "cell_type": "code",
   "execution_count": 1,
   "metadata": {},
   "outputs": [],
   "source": [
    "# 필요한 라이브러리들을 불러옵니다.\n",
    "import os, sys\n",
    "import numpy as np\n",
    "import pandas as pd\n",
    "from tqdm import tqdm\n",
    "\n",
    "# 상위 디렉토리로 경로를 설정합니다.\n",
    "sys.path.append(os.path.abspath('../'))\n",
    "\n",
    "# 사용자 정의 모듈을 불러옵니다.\n",
    "from classify_fault.set_config import calculate_variables_config\n",
    "from classify_fault.check_dynamics import *"
   ]
  },
  {
   "cell_type": "code",
   "execution_count": 2,
   "metadata": {},
   "outputs": [],
   "source": [
    "data_path = '../data/TemperatureTrain.csv'\n",
    "data_path2 = '../data/Temperature.csv'\n",
    "config_save_path = '../config/example_config.json'"
   ]
  },
  {
   "cell_type": "code",
   "execution_count": 3,
   "metadata": {},
   "outputs": [],
   "source": [
    "# 훈련 데이터와 테스트 데이터를 불러옵니다.\n",
    "train_data = pd.read_csv(data_path, index_col=[0])\n",
    "test_data = pd.read_csv(data_path2, index_col=[0])\n",
    "tag_list = train_data.columns.to_list()\n",
    "test_tag_list = ['temp5Gain']"
   ]
  },
  {
   "cell_type": "code",
   "execution_count": 4,
   "metadata": {},
   "outputs": [
    {
     "data": {
      "text/html": [
       "<div>\n",
       "<style scoped>\n",
       "    .dataframe tbody tr th:only-of-type {\n",
       "        vertical-align: middle;\n",
       "    }\n",
       "\n",
       "    .dataframe tbody tr th {\n",
       "        vertical-align: top;\n",
       "    }\n",
       "\n",
       "    .dataframe thead th {\n",
       "        text-align: right;\n",
       "    }\n",
       "</style>\n",
       "<table border=\"1\" class=\"dataframe\">\n",
       "  <thead>\n",
       "    <tr style=\"text-align: right;\">\n",
       "      <th></th>\n",
       "      <th>temp5</th>\n",
       "    </tr>\n",
       "    <tr>\n",
       "      <th>DateTime</th>\n",
       "      <th></th>\n",
       "    </tr>\n",
       "  </thead>\n",
       "  <tbody>\n",
       "    <tr>\n",
       "      <th>2022-08-01 00:00:00</th>\n",
       "      <td>1220.54</td>\n",
       "    </tr>\n",
       "    <tr>\n",
       "      <th>2022-08-01 00:10:00</th>\n",
       "      <td>1210.31</td>\n",
       "    </tr>\n",
       "    <tr>\n",
       "      <th>2022-08-01 00:20:00</th>\n",
       "      <td>1206.14</td>\n",
       "    </tr>\n",
       "    <tr>\n",
       "      <th>2022-08-01 00:30:00</th>\n",
       "      <td>1200.39</td>\n",
       "    </tr>\n",
       "    <tr>\n",
       "      <th>2022-08-01 00:40:00</th>\n",
       "      <td>1204.22</td>\n",
       "    </tr>\n",
       "  </tbody>\n",
       "</table>\n",
       "</div>"
      ],
      "text/plain": [
       "                       temp5\n",
       "DateTime                    \n",
       "2022-08-01 00:00:00  1220.54\n",
       "2022-08-01 00:10:00  1210.31\n",
       "2022-08-01 00:20:00  1206.14\n",
       "2022-08-01 00:30:00  1200.39\n",
       "2022-08-01 00:40:00  1204.22"
      ]
     },
     "execution_count": 4,
     "metadata": {},
     "output_type": "execute_result"
    }
   ],
   "source": [
    "train_data[tag_list].head()"
   ]
  },
  {
   "cell_type": "code",
   "execution_count": 5,
   "metadata": {},
   "outputs": [
    {
     "data": {
      "text/html": [
       "<div>\n",
       "<style scoped>\n",
       "    .dataframe tbody tr th:only-of-type {\n",
       "        vertical-align: middle;\n",
       "    }\n",
       "\n",
       "    .dataframe tbody tr th {\n",
       "        vertical-align: top;\n",
       "    }\n",
       "\n",
       "    .dataframe thead th {\n",
       "        text-align: right;\n",
       "    }\n",
       "</style>\n",
       "<table border=\"1\" class=\"dataframe\">\n",
       "  <thead>\n",
       "    <tr style=\"text-align: right;\">\n",
       "      <th></th>\n",
       "      <th>temp5Gain</th>\n",
       "    </tr>\n",
       "    <tr>\n",
       "      <th>DateTime</th>\n",
       "      <th></th>\n",
       "    </tr>\n",
       "  </thead>\n",
       "  <tbody>\n",
       "    <tr>\n",
       "      <th>2023-01-01 00:00:00</th>\n",
       "      <td>1192.58</td>\n",
       "    </tr>\n",
       "    <tr>\n",
       "      <th>2023-01-01 00:01:00</th>\n",
       "      <td>1193.04</td>\n",
       "    </tr>\n",
       "    <tr>\n",
       "      <th>2023-01-01 00:02:00</th>\n",
       "      <td>1193.46</td>\n",
       "    </tr>\n",
       "    <tr>\n",
       "      <th>2023-01-01 00:03:00</th>\n",
       "      <td>1192.96</td>\n",
       "    </tr>\n",
       "    <tr>\n",
       "      <th>2023-01-01 00:04:00</th>\n",
       "      <td>1190.98</td>\n",
       "    </tr>\n",
       "  </tbody>\n",
       "</table>\n",
       "</div>"
      ],
      "text/plain": [
       "                     temp5Gain\n",
       "DateTime                      \n",
       "2023-01-01 00:00:00    1192.58\n",
       "2023-01-01 00:01:00    1193.04\n",
       "2023-01-01 00:02:00    1193.46\n",
       "2023-01-01 00:03:00    1192.96\n",
       "2023-01-01 00:04:00    1190.98"
      ]
     },
     "execution_count": 5,
     "metadata": {},
     "output_type": "execute_result"
    }
   ],
   "source": [
    "test_data[test_tag_list].head()"
   ]
  },
  {
   "cell_type": "code",
   "execution_count": 6,
   "metadata": {},
   "outputs": [],
   "source": [
    "# 훈련 데이터를 사용하여 Configuration을 계산합니다.\n",
    "config = calculate_variables_config(tag_list=tag_list, data=train_data[tag_list].values)\n",
    "dynamic_threshold = config[tag_list[0]]['dynamic_threshold']\n",
    "tracking_size = config[tag_list[0]][\"tracking_size\"]"
   ]
  },
  {
   "cell_type": "code",
   "execution_count": 8,
   "metadata": {},
   "outputs": [],
   "source": [
    "# 각 데이터 포인트에 대한 평균 차이를 저장할 리스트\n",
    "average_diffs = []\n",
    "# 감지된 동적 상태를 저장할 리스트\n",
    "detecteds = []\n",
    "\n",
    "# 트래킹 사이즈부터 테스트 데이터의 끝까지 반복\n",
    "for i in range(tracking_size, len(test_data)):\n",
    "    # 현재 인덱스를 기준으로 트래킹 사이즈만큼 이전의 테스트 데이터를 슬라이싱합니다.\n",
    "    test_ = test_data[test_tag_list].values[i - tracking_size + 1: i + 1 , :]\n",
    "\n",
    "    # 동적 상태를 감지하는 함수를 호출하고 결과를 저장합니다.\n",
    "    dynamics_detected, avg_diff = detect_dynamics(data=test_, \n",
    "                                                dynamic_threshold=dynamic_threshold, \n",
    "                                                n=tracking_size)\n",
    "    # 동적 상태가 감지된 경우, detecteds 리스트에 현재 테스트 데이터를 추가합니다.\n",
    "    if dynamics_detected:\n",
    "        detecteds.append(test_[-1])\n",
    "    # 동적 상태가 감지되지 않은 경우, detecteds 리스트에 None 값을 추가합니다.\n",
    "    else:\n",
    "        detecteds.append(None)\n",
    "\n",
    "    # 평균 차이 값을 average_diffs 리스트에 추가합니다.\n",
    "    average_diffs.append(avg_diff)"
   ]
  },
  {
   "cell_type": "code",
   "execution_count": 9,
   "metadata": {},
   "outputs": [
    {
     "name": "stderr",
     "output_type": "stream",
     "text": [
      "c:\\Users\\asdm1\\Anaconda3\\envs\\techdas\\lib\\site-packages\\numpy\\ma\\core.py:2832: VisibleDeprecationWarning: Creating an ndarray from ragged nested sequences (which is a list-or-tuple of lists-or-tuples-or ndarrays with different lengths or shapes) is deprecated. If you meant to do this, you must specify 'dtype=object' when creating the ndarray\n",
      "  order=order, subok=True, ndmin=ndmin)\n"
     ]
    },
    {
     "data": {
      "image/png": "[encoded data removed]",
      "text/plain": [
       "<Figure size 648x432 with 3 Axes>"
      ]
     },
     "metadata": {
      "needs_background": "light"
     },
     "output_type": "display_data"
    }
   ],
   "source": [
    "# 시각화\n",
    "import matplotlib.pyplot as plt\n",
    "test_data_list = list(test_data[test_tag_list].values.flatten())\n",
    "\n",
    "fig, ax = plt.subplots(2,1, figsize=(9, 6), sharex=True)\n",
    "ax1, ax2 = ax[0], ax[1]\n",
    "ax12 = ax1.twinx()\n",
    "\n",
    "ax1.plot(test_data_list, c='k', label='Test Data')\n",
    "ax1.scatter(x=np.arange(len(detecteds)), y=detecteds, \n",
    "            s=5.5, c='r', marker='x',\n",
    "            label='Detected Frozen')\n",
    "ax1.set_xlim(0, len(test_data_list))\n",
    "ax1.set_title(\"Test Data\")\n",
    "\n",
    "ax2.axhline(y=dynamic_threshold, c='g')\n",
    "ax2.plot(average_diffs, c='b', label='Difference', linewidth=2)\n",
    "ax2.set_title(\"Difference Trend\")\n",
    "\n",
    "fig.legend(loc='center', bbox_to_anchor=(1.10, 0.9))  # Set the legend location\n",
    "fig.subplots_adjust(top=0.9, bottom=0.1, left=0.1, right=0.95, hspace=0.4)\n",
    "plt.show();"
   ]
  }
 ],
 "metadata": {
  "kernelspec": {
   "display_name": "techdas",
   "language": "python",
   "name": "python3"
  },
  "language_info": {
   "codemirror_mode": {
    "name": "ipython",
    "version": 3
   },
   "file_extension": ".py",
   "mimetype": "text/x-python",
   "name": "python",
   "nbconvert_exporter": "python",
   "pygments_lexer": "ipython3",
   "version": "3.7.11"
  },
  "orig_nbformat": 4
 },
 "nbformat": 4,
 "nbformat_minor": 2
}
