{
 "cells": [
  {
   "attachments": {},
   "cell_type": "markdown",
   "metadata": {},
   "source": [
    "아래의 코드는 CUSUM 통계지표를 활용하여 Drift 감지를 수행합니다.\n",
    "\n",
    "다음과 같은 단계로 이루어져 있습니다:\n",
    "\n",
    "> 1. 필요한 라이브러리와 사용자 정의 모듈을 불러옵니다.\n",
    "\n",
    "> 2. 데이터 파일 경로를 설정합니다.\n",
    "\n",
    "> 3. 결과를 저장하기 위한 함수를 정의합니다.\n",
    "\n",
    "> 4. 훈련 데이터와 테스트 데이터를 불러옵니다.\n",
    "\n",
    "> 5. 훈련 데이터를 사용하여 Configuration을 계산하고 저장합니다.\n",
    "\n",
    "> 6. 시험용 데이터를 사용하여 Drift Monitoring을 실행합니다."
   ]
  },
  {
   "cell_type": "code",
   "execution_count": 16,
   "metadata": {},
   "outputs": [],
   "source": [
    "# 필요한 라이브러리들을 불러옵니다.\n",
    "import os, sys\n",
    "import numpy as np\n",
    "import pandas as pd\n",
    "from tqdm import tqdm\n",
    "\n",
    "# 상위 디렉토리로 경로를 설정합니다.\n",
    "sys.path.append(os.path.abspath('../'))\n",
    "\n",
    "# 사용자 정의 모듈을 불러옵니다.\n",
    "from classify_fault.set_config import calculate_variables_config, save_config\n",
    "from classify_fault.check_drift import *"
   ]
  },
  {
   "cell_type": "code",
   "execution_count": 9,
   "metadata": {},
   "outputs": [],
   "source": [
    "data_path = '../data/TemperatureTrain.csv'\n",
    "data_path2 = '../data/Temperature.csv'\n",
    "config_save_path = '../config/example_config_drift.json'"
   ]
  },
  {
   "cell_type": "code",
   "execution_count": 10,
   "metadata": {},
   "outputs": [],
   "source": [
    "# 훈련 데이터와 테스트 데이터를 불러옵니다.\n",
    "train_data = pd.read_csv(data_path, index_col=[0])\n",
    "test_data = pd.read_csv(data_path2, index_col=[0])\n",
    "tag_list = train_data.columns.to_list()\n",
    "test_tag_list = ['temp5Drift']"
   ]
  },
  {
   "cell_type": "code",
   "execution_count": 11,
   "metadata": {},
   "outputs": [
    {
     "data": {
      "text/html": [
       "<div>\n",
       "<style scoped>\n",
       "    .dataframe tbody tr th:only-of-type {\n",
       "        vertical-align: middle;\n",
       "    }\n",
       "\n",
       "    .dataframe tbody tr th {\n",
       "        vertical-align: top;\n",
       "    }\n",
       "\n",
       "    .dataframe thead th {\n",
       "        text-align: right;\n",
       "    }\n",
       "</style>\n",
       "<table border=\"1\" class=\"dataframe\">\n",
       "  <thead>\n",
       "    <tr style=\"text-align: right;\">\n",
       "      <th></th>\n",
       "      <th>temp5</th>\n",
       "    </tr>\n",
       "    <tr>\n",
       "      <th>DateTime</th>\n",
       "      <th></th>\n",
       "    </tr>\n",
       "  </thead>\n",
       "  <tbody>\n",
       "    <tr>\n",
       "      <th>2022-08-01 00:00:00</th>\n",
       "      <td>1220.54</td>\n",
       "    </tr>\n",
       "    <tr>\n",
       "      <th>2022-08-01 00:10:00</th>\n",
       "      <td>1210.31</td>\n",
       "    </tr>\n",
       "    <tr>\n",
       "      <th>2022-08-01 00:20:00</th>\n",
       "      <td>1206.14</td>\n",
       "    </tr>\n",
       "    <tr>\n",
       "      <th>2022-08-01 00:30:00</th>\n",
       "      <td>1200.39</td>\n",
       "    </tr>\n",
       "    <tr>\n",
       "      <th>2022-08-01 00:40:00</th>\n",
       "      <td>1204.22</td>\n",
       "    </tr>\n",
       "  </tbody>\n",
       "</table>\n",
       "</div>"
      ],
      "text/plain": [
       "                       temp5\n",
       "DateTime                    \n",
       "2022-08-01 00:00:00  1220.54\n",
       "2022-08-01 00:10:00  1210.31\n",
       "2022-08-01 00:20:00  1206.14\n",
       "2022-08-01 00:30:00  1200.39\n",
       "2022-08-01 00:40:00  1204.22"
      ]
     },
     "execution_count": 11,
     "metadata": {},
     "output_type": "execute_result"
    }
   ],
   "source": [
    "train_data[tag_list].head()"
   ]
  },
  {
   "cell_type": "code",
   "execution_count": 12,
   "metadata": {},
   "outputs": [
    {
     "data": {
      "text/html": [
       "<div>\n",
       "<style scoped>\n",
       "    .dataframe tbody tr th:only-of-type {\n",
       "        vertical-align: middle;\n",
       "    }\n",
       "\n",
       "    .dataframe tbody tr th {\n",
       "        vertical-align: top;\n",
       "    }\n",
       "\n",
       "    .dataframe thead th {\n",
       "        text-align: right;\n",
       "    }\n",
       "</style>\n",
       "<table border=\"1\" class=\"dataframe\">\n",
       "  <thead>\n",
       "    <tr style=\"text-align: right;\">\n",
       "      <th></th>\n",
       "      <th>temp5Drift</th>\n",
       "    </tr>\n",
       "    <tr>\n",
       "      <th>DateTime</th>\n",
       "      <th></th>\n",
       "    </tr>\n",
       "  </thead>\n",
       "  <tbody>\n",
       "    <tr>\n",
       "      <th>2023-01-01 0:00</th>\n",
       "      <td>1192.58</td>\n",
       "    </tr>\n",
       "    <tr>\n",
       "      <th>2023-01-01 0:01</th>\n",
       "      <td>1193.04</td>\n",
       "    </tr>\n",
       "    <tr>\n",
       "      <th>2023-01-01 0:02</th>\n",
       "      <td>1193.46</td>\n",
       "    </tr>\n",
       "    <tr>\n",
       "      <th>2023-01-01 0:03</th>\n",
       "      <td>1192.96</td>\n",
       "    </tr>\n",
       "    <tr>\n",
       "      <th>2023-01-01 0:04</th>\n",
       "      <td>1190.98</td>\n",
       "    </tr>\n",
       "  </tbody>\n",
       "</table>\n",
       "</div>"
      ],
      "text/plain": [
       "                 temp5Drift\n",
       "DateTime                   \n",
       "2023-01-01 0:00     1192.58\n",
       "2023-01-01 0:01     1193.04\n",
       "2023-01-01 0:02     1193.46\n",
       "2023-01-01 0:03     1192.96\n",
       "2023-01-01 0:04     1190.98"
      ]
     },
     "execution_count": 12,
     "metadata": {},
     "output_type": "execute_result"
    }
   ],
   "source": [
    "test_data[test_tag_list].head()"
   ]
  },
  {
   "cell_type": "code",
   "execution_count": 19,
   "metadata": {},
   "outputs": [],
   "source": [
    "# 훈련 데이터를 사용하여 Configuration을 계산합니다.\n",
    "config = calculate_variables_config(tag_list=tag_list, data=train_data[tag_list].values)\n",
    "average = config[tag_list[0]]['statistic']['mean']\n",
    "drift_params = config[tag_list[0]]['drift_params']\n",
    "tracking_size = config[tag_list[0]][\"tracking_size\"]\n",
    "save_config(data=config, json_file_path=config_save_path)"
   ]
  },
  {
   "cell_type": "code",
   "execution_count": 20,
   "metadata": {},
   "outputs": [],
   "source": [
    "# 드리프트 감지 결과를 저장할 리스트\n",
    "cusum_plus_list, cusum_minus_list = [], []\n",
    "detecteds = []\n",
    "\n",
    "# 트래킹 사이즈부터 테스트 데이터의 끝까지 반복\n",
    "for i in range(tracking_size, len(test_data)):\n",
    "    # 현재 데이터 포인트를 가져옵니다.\n",
    "    test_ = test_data[test_tag_list].values[i, :][-1]\n",
    "\n",
    "    # 드리프트 파라미터들을 가져옵니다.\n",
    "    average = drift_params['average']\n",
    "    cusum_threshold = drift_params['cusum_threshold']\n",
    "    ewma_alpha = drift_params['ewma_alpha']\n",
    "    cusum_plus_init = drift_params.get('cusum_plus', 0)\n",
    "    cusum_minus_init = drift_params.get('cusum_minus', 0)\n",
    "\n",
    "    # 드리프트 감지 함수를 호출합니다.\n",
    "    result = detect_drift(data_point=test_, average=average, \n",
    "                          cusum_threshold=cusum_threshold, ewma_alpha=ewma_alpha,\n",
    "                          C_plus=cusum_plus_init, C_minus=cusum_minus_init)\n",
    "\n",
    "    # 드리프트 결과를 업데이트합니다.\n",
    "    cusum_plus = result['CUSUM'].get('C_plus', 0)\n",
    "    cusum_minus = result['CUSUM'].get('C_minus', 0)\n",
    "    ewma_smoothed = result['EWMA'].get('smoothed_data', 0)\n",
    "\n",
    "    update_drift_result(config_path=config_save_path, \n",
    "                        tag=tag_list[0],\n",
    "                        drift_result={\"cusum_plus\": cusum_plus, \n",
    "                                      \"cusum_minus\": cusum_minus,\n",
    "                                      \"ewma_smoothed\": ewma_smoothed})\n",
    "\n",
    "    # 드리프트 감지 결과를 저장합니다.\n",
    "    cusum_plus_list.append(cusum_plus)\n",
    "    cusum_minus_list.append(cusum_minus)\n",
    "\n",
    "    # 드리프트가 감지되면 현재 데이터 포인트를 저장하고, 그렇지 않으면 None 값을 저장합니다.\n",
    "    if result['CUSUM']['detected']:\n",
    "        detecteds.append(test_)\n",
    "    else:\n",
    "        detecteds.append(None)"
   ]
  },
  {
   "cell_type": "code",
   "execution_count": 21,
   "metadata": {},
   "outputs": [
    {
     "data": {
      "image/png": "[encoded data removed]",
      "text/plain": [
       "<Figure size 648x432 with 3 Axes>"
      ]
     },
     "metadata": {
      "needs_background": "light"
     },
     "output_type": "display_data"
    }
   ],
   "source": [
    "# 시각화\n",
    "import matplotlib.pyplot as plt\n",
    "test_data_list = list(test_data[test_tag_list].values[tracking_size:].flatten())\n",
    "\n",
    "fig, ax = plt.subplots(2,1, figsize=(9, 6), sharex=True)\n",
    "ax1, ax2 = ax[0], ax[1]\n",
    "ax12 = ax1.twinx()\n",
    "\n",
    "ax1.plot(test_data_list, c='k', label='Test Data')\n",
    "ax1.scatter(x=np.arange(len(detecteds)), y=detecteds, \n",
    "            s=5.5, c='r', marker='x',\n",
    "            label='Detected Drift')\n",
    "ax1.set_xlim(0, len(test_data_list))\n",
    "ax1.set_title(\"Test Data\")\n",
    "\n",
    "ax2.axhline(y=5, c='g')\n",
    "ax2.axhline(y=-5, c='g')\n",
    "ax2.plot(cusum_plus_list, c='b', label='CUSUM Plus', linewidth=2)\n",
    "ax2.plot(cusum_minus_list, c='b', label='CUSUM Minus', linewidth=2)\n",
    "ax2.set_title(\"CUSUM Trend\")\n",
    "\n",
    "fig.legend(loc='center', bbox_to_anchor=(1.10, 0.9))  # Set the legend location\n",
    "fig.subplots_adjust(top=0.9, bottom=0.1, left=0.1, right=0.95, hspace=0.4)\n",
    "plt.show();"
   ]
  },
  {
   "cell_type": "code",
   "execution_count": null,
   "metadata": {},
   "outputs": [],
   "source": []
  }
 ],
 "metadata": {
  "kernelspec": {
   "display_name": "techdas",
   "language": "python",
   "name": "python3"
  },
  "language_info": {
   "codemirror_mode": {
    "name": "ipython",
    "version": 3
   },
   "file_extension": ".py",
   "mimetype": "text/x-python",
   "name": "python",
   "nbconvert_exporter": "python",
   "pygments_lexer": "ipython3",
   "version": "3.7.11"
  },
  "orig_nbformat": 4
 },
 "nbformat": 4,
 "nbformat_minor": 2
}
