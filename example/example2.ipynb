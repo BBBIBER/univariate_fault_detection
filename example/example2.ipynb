{
 "cells": [
  {
   "attachments": {},
   "cell_type": "markdown",
   "metadata": {},
   "source": [
    "아래의 코드는 주어진 데이터를 분석하여 고장을 감지하는 과정을 수행합니다. \n",
    "\n",
    "다음과 같은 단계로 이루어져 있습니다:\n",
    "\n",
    "> 1. 필요한 라이브러리와 사용자 정의 모듈을 불러옵니다.\n",
    "\n",
    "> 2. 데이터 파일 경로를 설정합니다.\n",
    "\n",
    "> 3. 결과를 저장하기 위한 함수를 정의합니다.\n",
    "\n",
    "> 4. 훈련 데이터와 테스트 데이터를 불러옵니다.\n",
    "\n",
    "> 5. 훈련 데이터를 사용하여 Configuration을 계산하고 저장합니다.\n",
    "\n",
    "> 6. 시험용 데이터를 사용하여 Univariate Monitoring을 실행합니다.\n",
    "\n",
    "> 7. 각 결과를 CSV 파일로 저장합니다."
   ]
  },
  {
   "cell_type": "code",
   "execution_count": 1,
   "metadata": {},
   "outputs": [],
   "source": [
    "# 필요한 라이브러리들을 불러옵니다.\n",
    "import os, sys\n",
    "import numpy as np\n",
    "import pandas as pd\n",
    "from tqdm import tqdm\n",
    "\n",
    "# 상위 디렉토리로 경로를 설정합니다.\n",
    "sys.path.append(os.path.abspath('../'))\n",
    "\n",
    "# 사용자 정의 모듈을 불러옵니다.\n",
    "from classify_fault.set_config import calculate_variables_config, save_config, load_config\n",
    "from classify_fault.fault_detection import detect_fault"
   ]
  },
  {
   "cell_type": "code",
   "execution_count": 2,
   "metadata": {},
   "outputs": [],
   "source": [
    "data_path = '../data/TemperatureTrain.csv'\n",
    "data_path2 = '../data/Temperature.csv'\n",
    "config_save_path = '../config/example_config.json'"
   ]
  },
  {
   "cell_type": "code",
   "execution_count": 3,
   "metadata": {},
   "outputs": [],
   "source": [
    "# 훈련 데이터와 테스트 데이터를 불러옵니다.\n",
    "train_data = pd.read_csv(data_path, index_col=[0])\n",
    "test_data = pd.read_csv(data_path2, index_col=[0])\n",
    "tag_list = train_data.columns.to_list()\n",
    "test_tag_list = ['temp5Normal', 'temp5Bias', 'temp5Frozen', 'temp5Drift', 'temp5Gain']"
   ]
  },
  {
   "cell_type": "code",
   "execution_count": 4,
   "metadata": {},
   "outputs": [
    {
     "data": {
      "text/html": [
       "<div>\n",
       "<style scoped>\n",
       "    .dataframe tbody tr th:only-of-type {\n",
       "        vertical-align: middle;\n",
       "    }\n",
       "\n",
       "    .dataframe tbody tr th {\n",
       "        vertical-align: top;\n",
       "    }\n",
       "\n",
       "    .dataframe thead th {\n",
       "        text-align: right;\n",
       "    }\n",
       "</style>\n",
       "<table border=\"1\" class=\"dataframe\">\n",
       "  <thead>\n",
       "    <tr style=\"text-align: right;\">\n",
       "      <th></th>\n",
       "      <th>temp5</th>\n",
       "    </tr>\n",
       "    <tr>\n",
       "      <th>DateTime</th>\n",
       "      <th></th>\n",
       "    </tr>\n",
       "  </thead>\n",
       "  <tbody>\n",
       "    <tr>\n",
       "      <th>2022-08-01 00:00:00</th>\n",
       "      <td>1220.54</td>\n",
       "    </tr>\n",
       "    <tr>\n",
       "      <th>2022-08-01 00:10:00</th>\n",
       "      <td>1210.31</td>\n",
       "    </tr>\n",
       "    <tr>\n",
       "      <th>2022-08-01 00:20:00</th>\n",
       "      <td>1206.14</td>\n",
       "    </tr>\n",
       "    <tr>\n",
       "      <th>2022-08-01 00:30:00</th>\n",
       "      <td>1200.39</td>\n",
       "    </tr>\n",
       "    <tr>\n",
       "      <th>2022-08-01 00:40:00</th>\n",
       "      <td>1204.22</td>\n",
       "    </tr>\n",
       "  </tbody>\n",
       "</table>\n",
       "</div>"
      ],
      "text/plain": [
       "                       temp5\n",
       "DateTime                    \n",
       "2022-08-01 00:00:00  1220.54\n",
       "2022-08-01 00:10:00  1210.31\n",
       "2022-08-01 00:20:00  1206.14\n",
       "2022-08-01 00:30:00  1200.39\n",
       "2022-08-01 00:40:00  1204.22"
      ]
     },
     "execution_count": 4,
     "metadata": {},
     "output_type": "execute_result"
    }
   ],
   "source": [
    "train_data[tag_list].head()"
   ]
  },
  {
   "cell_type": "code",
   "execution_count": 5,
   "metadata": {},
   "outputs": [
    {
     "data": {
      "text/html": [
       "<div>\n",
       "<style scoped>\n",
       "    .dataframe tbody tr th:only-of-type {\n",
       "        vertical-align: middle;\n",
       "    }\n",
       "\n",
       "    .dataframe tbody tr th {\n",
       "        vertical-align: top;\n",
       "    }\n",
       "\n",
       "    .dataframe thead th {\n",
       "        text-align: right;\n",
       "    }\n",
       "</style>\n",
       "<table border=\"1\" class=\"dataframe\">\n",
       "  <thead>\n",
       "    <tr style=\"text-align: right;\">\n",
       "      <th></th>\n",
       "      <th>temp5Normal</th>\n",
       "      <th>temp5Bias</th>\n",
       "      <th>temp5Frozen</th>\n",
       "      <th>temp5Drift</th>\n",
       "      <th>temp5Gain</th>\n",
       "    </tr>\n",
       "    <tr>\n",
       "      <th>DateTime</th>\n",
       "      <th></th>\n",
       "      <th></th>\n",
       "      <th></th>\n",
       "      <th></th>\n",
       "      <th></th>\n",
       "    </tr>\n",
       "  </thead>\n",
       "  <tbody>\n",
       "    <tr>\n",
       "      <th>2023-01-01 00:00:00</th>\n",
       "      <td>1192.58</td>\n",
       "      <td>1192.58</td>\n",
       "      <td>1192.58</td>\n",
       "      <td>1192.58</td>\n",
       "      <td>1192.58</td>\n",
       "    </tr>\n",
       "    <tr>\n",
       "      <th>2023-01-01 00:01:00</th>\n",
       "      <td>1193.04</td>\n",
       "      <td>1193.04</td>\n",
       "      <td>1193.04</td>\n",
       "      <td>1193.04</td>\n",
       "      <td>1193.04</td>\n",
       "    </tr>\n",
       "    <tr>\n",
       "      <th>2023-01-01 00:02:00</th>\n",
       "      <td>1193.46</td>\n",
       "      <td>1193.46</td>\n",
       "      <td>1193.46</td>\n",
       "      <td>1193.46</td>\n",
       "      <td>1193.46</td>\n",
       "    </tr>\n",
       "    <tr>\n",
       "      <th>2023-01-01 00:03:00</th>\n",
       "      <td>1192.96</td>\n",
       "      <td>1192.96</td>\n",
       "      <td>1192.96</td>\n",
       "      <td>1192.96</td>\n",
       "      <td>1192.96</td>\n",
       "    </tr>\n",
       "    <tr>\n",
       "      <th>2023-01-01 00:04:00</th>\n",
       "      <td>1190.98</td>\n",
       "      <td>1190.98</td>\n",
       "      <td>1190.98</td>\n",
       "      <td>1190.98</td>\n",
       "      <td>1190.98</td>\n",
       "    </tr>\n",
       "  </tbody>\n",
       "</table>\n",
       "</div>"
      ],
      "text/plain": [
       "                     temp5Normal  temp5Bias  temp5Frozen  temp5Drift  \\\n",
       "DateTime                                                               \n",
       "2023-01-01 00:00:00      1192.58    1192.58      1192.58     1192.58   \n",
       "2023-01-01 00:01:00      1193.04    1193.04      1193.04     1193.04   \n",
       "2023-01-01 00:02:00      1193.46    1193.46      1193.46     1193.46   \n",
       "2023-01-01 00:03:00      1192.96    1192.96      1192.96     1192.96   \n",
       "2023-01-01 00:04:00      1190.98    1190.98      1190.98     1190.98   \n",
       "\n",
       "                     temp5Gain  \n",
       "DateTime                        \n",
       "2023-01-01 00:00:00    1192.58  \n",
       "2023-01-01 00:01:00    1193.04  \n",
       "2023-01-01 00:02:00    1193.46  \n",
       "2023-01-01 00:03:00    1192.96  \n",
       "2023-01-01 00:04:00    1190.98  "
      ]
     },
     "execution_count": 5,
     "metadata": {},
     "output_type": "execute_result"
    }
   ],
   "source": [
    "test_data[test_tag_list].head()"
   ]
  },
  {
   "cell_type": "code",
   "execution_count": 6,
   "metadata": {},
   "outputs": [],
   "source": [
    "# 훈련 데이터를 사용하여 Configuration을 계산하고 저장합니다.\n",
    "config = calculate_variables_config(tag_list=tag_list, data=train_data[tag_list].values)\n",
    "save_config(data=config, json_file_path=config_save_path)\n",
    "\n",
    "tag = tag_list[0]    # 한 개의 태그 이용\n",
    "\n",
    "# 시험 태그 설정\n",
    "test_tag = 'temp5Drift'\n",
    "test_tag_idx = test_data.columns.get_loc(test_tag)\n",
    "type_to_check_ = {\"frozen\": False,\n",
    "                  \"boundary\": False,\n",
    "                  \"dynamics\": False,\n",
    "                  \"drift\": True}"
   ]
  },
  {
   "cell_type": "code",
   "execution_count": 7,
   "metadata": {},
   "outputs": [
    {
     "name": "stderr",
     "output_type": "stream",
     "text": [
      "100%|██████████| 52742/52742 [01:41<00:00, 519.01it/s]\n"
     ]
    }
   ],
   "source": [
    "# 시험용 데이터를 사용하여 Univariate Monitoring을 실행합니다.\n",
    "total_results = []\n",
    "\n",
    "for i in tqdm(range(10, len(test_data))):\n",
    "    config = load_config(json_file_path=config_save_path)\n",
    "    tracking_size = config[tag][\"tracking_size\"]\n",
    "    type_to_check = config[tag][\"type_to_check\"]\n",
    "    frozen_threshold = config[tag][\"frozen_threshold\"]\n",
    "    boundary_limits = config[tag][\"boundary_limits\"]\n",
    "    dynamic_threshold = config[tag][\"dynamic_threshold\"]\n",
    "    drift_params = config[tag][\"drift_params\"]        \n",
    "\n",
    "    test_ = test_data.values[i - tracking_size: i, test_tag_idx]\n",
    "    result = detect_fault(data=test_, tag=tag,\n",
    "                            tracking_size=tracking_size, \n",
    "                            frozen_threshold=frozen_threshold,\n",
    "                            boundary_limits=boundary_limits,\n",
    "                            dynamic_threshold=dynamic_threshold, \n",
    "                            drift_params=drift_params,\n",
    "                            type_to_check=type_to_check_,\n",
    "                            config_path=config_save_path)\n",
    "    total_results.append(result)"
   ]
  },
  {
   "cell_type": "code",
   "execution_count": 8,
   "metadata": {},
   "outputs": [
    {
     "data": {
      "text/plain": [
       "{'success': True,\n",
       " 'fault_detected': True,\n",
       " 'Frozen': False,\n",
       " 'Boundary': False,\n",
       " 'Dynamics': False,\n",
       " 'Drift': True,\n",
       " 'message': '-',\n",
       " 'values': {'frozen': None,\n",
       "  'boundary': None,\n",
       "  'dynamics': None,\n",
       "  'drift': [227628.64304371437, 0]}}"
      ]
     },
     "execution_count": 8,
     "metadata": {},
     "output_type": "execute_result"
    }
   ],
   "source": [
    "total_results[-1]"
   ]
  }
 ],
 "metadata": {
  "kernelspec": {
   "display_name": "techdas",
   "language": "python",
   "name": "python3"
  },
  "language_info": {
   "codemirror_mode": {
    "name": "ipython",
    "version": 3
   },
   "file_extension": ".py",
   "mimetype": "text/x-python",
   "name": "python",
   "nbconvert_exporter": "python",
   "pygments_lexer": "ipython3",
   "version": "3.7.11"
  },
  "orig_nbformat": 4
 },
 "nbformat": 4,
 "nbformat_minor": 2
}
